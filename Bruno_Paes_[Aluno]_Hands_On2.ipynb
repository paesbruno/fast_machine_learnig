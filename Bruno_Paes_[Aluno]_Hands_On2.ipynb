{
  "cells": [
    {
      "cell_type": "markdown",
      "id": "54077720",
      "metadata": {
        "id": "54077720"
      },
      "source": [
        "# Atividade Prática"
      ]
    },
    {
      "cell_type": "markdown",
      "id": "aac80fc7",
      "metadata": {
        "id": "aac80fc7"
      },
      "source": [
        "Nessa atividade iremos dar os primeiros passos \n",
        "para a tarefa de clustering (aprendizado não-supervisionado)\n",
        "é esperado que ao término dessa prática se tenha as seguintes habilidades:\n",
        "\n",
        "* Análise exploratória a partir de uma gráfico de dispersão;\n",
        "* Execução do algoritmo k-means através da lib sklearn;\n",
        "* Análise dos clusters gerados\n",
        "* Descoberta do número de grupos"
      ]
    },
    {
      "cell_type": "markdown",
      "id": "7826537d",
      "metadata": {
        "id": "7826537d"
      },
      "source": [
        "## passo 1: import das libs necessárias"
      ]
    },
    {
      "cell_type": "code",
      "execution_count": null,
      "id": "927de49b",
      "metadata": {
        "id": "927de49b"
      },
      "outputs": [],
      "source": [
        "import pandas as pd\n",
        "import numpy as np\n",
        "from sklearn.datasets import make_blobs\n",
        "import matplotlib.pyplot as plt\n",
        "from sklearn import metrics\n",
        "from sklearn.cluster import KMeans"
      ]
    },
    {
      "cell_type": "markdown",
      "id": "d9da12f5",
      "metadata": {
        "id": "d9da12f5"
      },
      "source": [
        "## passo 2: carregar o dataset"
      ]
    },
    {
      "cell_type": "markdown",
      "id": "3c7cade9",
      "metadata": {
        "id": "3c7cade9"
      },
      "source": [
        "Obs: iremos considerar X sendo nosso dataset e y_true o que seriam as classes dos dados"
      ]
    },
    {
      "cell_type": "code",
      "execution_count": null,
      "id": "c39d91dc",
      "metadata": {
        "id": "c39d91dc"
      },
      "outputs": [],
      "source": [
        "X, y_true = make_blobs(\n",
        "    n_samples=600, n_features=2, centers=7, cluster_std=0.1, random_state=0\n",
        ")\n",
        "\n",
        "# os dados foram carregados em um formato matricial numpy, \n",
        "# porém para facilitar as análises precisaremos converter para um\n",
        "# tipo pandas DataFrame\n",
        "X = pd.DataFrame(X)"
      ]
    },
    {
      "cell_type": "markdown",
      "id": "a6082271",
      "metadata": {
        "id": "a6082271"
      },
      "source": [
        "## passo 3: análise exploratória do dataset"
      ]
    },
    {
      "cell_type": "code",
      "execution_count": null,
      "id": "45aa8663",
      "metadata": {
        "id": "45aa8663",
        "colab": {
          "base_uri": "https://localhost:8080/",
          "height": 521
        },
        "outputId": "a8247550-7cad-4581-ce48-312996862923"
      },
      "outputs": [
        {
          "output_type": "stream",
          "name": "stdout",
          "text": [
            "dimensões do dataset (exemplos, features):  (600, 2)\n",
            "\n",
            "as estatísticas básicas dos dados: \n",
            "                0           1\n",
            "count  600.000000  600.000000\n",
            "mean     2.383434    3.236446\n",
            "std      3.616633    3.659243\n",
            "min     -1.763863   -2.555702\n",
            "25%     -1.215534    0.660064\n",
            "50%      1.382243    2.921093\n",
            "75%      5.782980    7.741719\n",
            "max      9.522975    8.688925\n",
            "\n",
            "dispersão dos dados:\n"
          ]
        },
        {
          "output_type": "display_data",
          "data": {
            "image/png": "[encoded data removed]",
            "text/plain": [
              "<Figure size 432x288 with 1 Axes>"
            ]
          },
          "metadata": {
            "needs_background": "light"
          }
        }
      ],
      "source": [
        "print(\"dimensões do dataset (exemplos, features): \", X.shape)\n",
        "print(\"\\nas estatísticas básicas dos dados: \")\n",
        "print(X.describe())\n",
        "\n",
        "\n",
        "print(\"\\ndispersão dos dados:\")\n",
        "plt.scatter(X.iloc[:, 0], X.iloc[:, 1])\n",
        "plt.show()"
      ]
    },
    {
      "cell_type": "markdown",
      "source": [
        "## passo 4: detecção automática do número de *grupos*"
      ],
      "metadata": {
        "id": "mq9hPiOuBI4G"
      },
      "id": "mq9hPiOuBI4G"
    },
    {
      "cell_type": "code",
      "source": [
        "def get_clustering_metric(X, k):\n",
        "  model = KMeans(n_clusters=k, random_state=0).fit(X)\n",
        "  return model.inertia_"
      ],
      "metadata": {
        "id": "17KR0iCABQz-"
      },
      "id": "17KR0iCABQz-",
      "execution_count": null,
      "outputs": []
    },
    {
      "cell_type": "code",
      "source": [
        "# declare uma lista de possíveis valores para o k\n",
        "n_clusters_candidates = [1, 2, 3, 4, 5, 6, 7, 8, 9, 10]\n",
        "\n",
        "values = []\n",
        "\n",
        "# itere sobre a lista e armazene as diferenças\n",
        "for k in n_clusters_candidates:\n",
        "\t\n",
        "\t# execute o k-means e em seguida obtenha o valor para a inertia ou silhueta\n",
        "  current_metric_value = get_clustering_metric(X, k)\n",
        "  print(f'{k}: {current_metric_value}')\n",
        "\n",
        "  values.append(current_metric_value)\n",
        "\n",
        "min_value = np.inf\n",
        "best_k = -1\n",
        "\n",
        "for i in range(1, len(values)-1):\n",
        "  val1 = values[i-1] - values[i]\n",
        "  val2 = values[i] - values[i+1]\n",
        "  val = val2 / val1\n",
        "\n",
        "  if val < min_value:\n",
        "      min_value = val\n",
        "      best_k = n_clusters_candidates[i]\n",
        "\n",
        "print(\"best k: \", best_k)\n",
        "print(values)\n",
        "\n",
        "plt.plot(values)\n",
        "plt.xlabel(\"X-axis\")  \n",
        "plt.ylabel(\"Y-axis\")  \n",
        "plt.title(\"Values\")  \n",
        "plt.axhline(1, alpha=0.1)\n",
        "[plt.axvline(i, alpha=0.1) for i in range(10)]\n",
        "plt.xticks([0, 1, 2, 3, 4, 5, 6, 7, 8, 9, 10])\n",
        "\n",
        "plt.show()"
      ],
      "metadata": {
        "id": "wHDw7srCBY9u",
        "colab": {
          "base_uri": "https://localhost:8080/",
          "height": 535
        },
        "outputId": "dff8462d-4d44-484b-a0a4-8f99a0413ce2"
      },
      "id": "wHDw7srCBY9u",
      "execution_count": null,
      "outputs": [
        {
          "output_type": "stream",
          "name": "stdout",
          "text": [
            "1: 15855.588382430455\n",
            "2: 5266.7209040689995\n",
            "3: 2282.555606434871\n",
            "4: 1311.076519689896\n",
            "5: 686.1280658160879\n",
            "6: 332.92177318587613\n",
            "7: 11.264380704372812\n",
            "8: 10.633016108743108\n",
            "9: 9.925674732517455\n",
            "10: 9.322642649733009\n",
            "best k:  7\n",
            "[15855.588382430455, 5266.7209040689995, 2282.555606434871, 1311.076519689896, 686.1280658160879, 332.92177318587613, 11.264380704372812, 10.633016108743108, 9.925674732517455, 9.322642649733009]\n"
          ]
        },
        {
          "output_type": "display_data",
          "data": {
            "image/png": "[encoded data removed]",
            "text/plain": [
              "<Figure size 432x288 with 1 Axes>"
            ]
          },
          "metadata": {
            "needs_background": "light"
          }
        }
      ]
    },
    {
      "cell_type": "markdown",
      "id": "eb778ec4",
      "metadata": {
        "id": "eb778ec4"
      },
      "source": [
        "## passo 5: execução do k-means utilizando o melhor valor para o K"
      ]
    },
    {
      "cell_type": "code",
      "execution_count": null,
      "id": "e2ba113a",
      "metadata": {
        "id": "e2ba113a"
      },
      "outputs": [],
      "source": [
        "# [ALTERE AQUI] realize o treinamento do k-means e armazene na variável model\n",
        "model = KMeans(n_clusters=best_k, random_state=0).fit(X)\n",
        "\n",
        "y_predict = model.labels_"
      ]
    },
    {
      "cell_type": "markdown",
      "id": "43301380",
      "metadata": {
        "id": "43301380"
      },
      "source": [
        "## passo 6: avaliação do k-means"
      ]
    },
    {
      "cell_type": "code",
      "execution_count": null,
      "id": "4b1c6d7e",
      "metadata": {
        "id": "4b1c6d7e",
        "colab": {
          "base_uri": "https://localhost:8080/",
          "height": 595
        },
        "outputId": "b3cec1ee-c408-470a-ebfd-1a146eb325cd"
      },
      "outputs": [
        {
          "output_type": "stream",
          "name": "stdout",
          "text": [
            "Silhueta:  0.9456683330740325\n",
            "NMI:  1.0\n"
          ]
        },
        {
          "output_type": "display_data",
          "data": {
            "image/png": "[encoded data removed]",
            "text/plain": [
              "<Figure size 432x288 with 1 Axes>"
            ]
          },
          "metadata": {
            "needs_background": "light"
          }
        },
        {
          "output_type": "display_data",
          "data": {
            "image/png": "[encoded data removed]",
            "text/plain": [
              "<Figure size 432x288 with 1 Axes>"
            ]
          },
          "metadata": {
            "needs_background": "light"
          }
        }
      ],
      "source": [
        "sil = metrics.silhouette_score(X, y_predict, metric='euclidean')\n",
        "nmi = metrics.normalized_mutual_info_score(y_true, y_predict)\n",
        "\n",
        "print(\"Silhueta: \", sil)\n",
        "print(\"NMI: \", nmi)\n",
        "\n",
        "# check como ficou o balanceamento\n",
        "_ = pd.DataFrame(y_predict).hist()\n",
        "plt.title('balanceamento dos grupos')\n",
        "plt.show()\n",
        "\n",
        "\n",
        "# plot de como ficou a clusterização\n",
        "plt.scatter(X.iloc[y_predict==0, 0], X.iloc[y_predict==0, 1], s=100, c='red', label ='Cluster 1')\n",
        "plt.scatter(X.iloc[y_predict==1, 0], X.iloc[y_predict==1, 1], s=100, c='blue', label ='Cluster 2')\n",
        "plt.scatter(X.iloc[y_predict==2, 0], X.iloc[y_predict==2, 1], s=100, c='green', label ='Cluster 3')\n",
        "plt.scatter(X.iloc[y_predict==3, 0], X.iloc[y_predict==3, 1], s=100, c='gray', label ='Cluster 4')\n",
        "plt.scatter(X.iloc[y_predict==4, 0], X.iloc[y_predict==4, 1], s=100, c='magenta', label ='Cluster 5')\n",
        "plt.scatter(X.iloc[y_predict==5, 0], X.iloc[y_predict==5, 1], s=100, c='cyan', label ='Cluster 6')\n",
        "plt.scatter(X.iloc[y_predict==6, 0], X.iloc[y_predict==6, 1], s=100, c='purple', label ='Cluster 7')\n",
        "\n",
        "plt.scatter(model.cluster_centers_[:, 0], model.cluster_centers_[:, 1], s=50, c='yellow', label = 'Centroids')\n",
        "plt.title('Clustering')\n",
        "plt.xlabel('feature 1')\n",
        "plt.ylabel('feature 2')\n",
        "plt.legend()\n",
        "plt.show()"
      ]
    }
  ],
  "metadata": {
    "kernelspec": {
      "display_name": "Python 3 (ipykernel)",
      "language": "python",
      "name": "python3"
    },
    "language_info": {
      "codemirror_mode": {
        "name": "ipython",
        "version": 3
      },
      "file_extension": ".py",
      "mimetype": "text/x-python",
      "name": "python",
      "nbconvert_exporter": "python",
      "pygments_lexer": "ipython3",
      "version": "3.9.7"
    },
    "colab": {
      "name": "Bruno Paes - [Aluno]_Hands_On2.ipynb",
      "provenance": [],
      "collapsed_sections": []
    }
  },
  "nbformat": 4,
  "nbformat_minor": 5
}