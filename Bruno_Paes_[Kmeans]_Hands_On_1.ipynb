{
  "cells": [
    {
      "cell_type": "markdown",
      "id": "54077720",
      "metadata": {
        "id": "54077720"
      },
      "source": [
        "# Atividade Prática 1"
      ]
    },
    {
      "cell_type": "markdown",
      "id": "aac80fc7",
      "metadata": {
        "id": "aac80fc7"
      },
      "source": [
        "Nessa atividade iremos dar os primeiros passos \n",
        "para a tarefa de clustering (aprendizado não-supervisionado)\n",
        "é esperado que ao término dessa prática se tenha as seguintes habilidades:\n",
        "\n",
        "* Análise exploratória a partir de uma gráfico de dispersão;\n",
        "* Execução do algoritmo k-means através da lib sklearn;\n",
        "* Análise dos clusters gerados"
      ]
    },
    {
      "cell_type": "markdown",
      "id": "7826537d",
      "metadata": {
        "id": "7826537d"
      },
      "source": [
        "## passo 1: import das libs necessárias"
      ]
    },
    {
      "cell_type": "code",
      "execution_count": null,
      "id": "927de49b",
      "metadata": {
        "id": "927de49b"
      },
      "outputs": [],
      "source": [
        "import pandas as pd\n",
        "import numpy as np\n",
        "from sklearn.datasets import make_blobs\n",
        "import matplotlib.pyplot as plt\n",
        "from sklearn import metrics\n",
        "from sklearn.cluster import KMeans"
      ]
    },
    {
      "cell_type": "markdown",
      "id": "d9da12f5",
      "metadata": {
        "id": "d9da12f5"
      },
      "source": [
        "## passo 2: carregar o dataset"
      ]
    },
    {
      "cell_type": "markdown",
      "id": "3c7cade9",
      "metadata": {
        "id": "3c7cade9"
      },
      "source": [
        "Obs: iremos considerar X sendo nosso dataset e y_true o que seriam as classes dos dados"
      ]
    },
    {
      "cell_type": "code",
      "execution_count": null,
      "id": "c39d91dc",
      "metadata": {
        "id": "c39d91dc",
        "colab": {
          "base_uri": "https://localhost:8080/"
        },
        "outputId": "92c2abe6-ee31-444a-8712-dc3491f2bcdc"
      },
      "outputs": [
        {
          "output_type": "stream",
          "name": "stdout",
          "text": [
            "<class 'pandas.core.frame.DataFrame'>\n",
            "RangeIndex: 100 entries, 0 to 99\n",
            "Data columns (total 2 columns):\n",
            " #   Column  Non-Null Count  Dtype  \n",
            "---  ------  --------------  -----  \n",
            " 0   0       100 non-null    float64\n",
            " 1   1       100 non-null    float64\n",
            "dtypes: float64(2)\n",
            "memory usage: 1.7 KB\n"
          ]
        }
      ],
      "source": [
        "X, y_true = make_blobs(\n",
        "    n_samples=100, n_features=2, centers=4, cluster_std=0.4, random_state=0\n",
        ")\n",
        "\n",
        "# os dados foram carregados em um formato matricial numpy, \n",
        "# porém para facilitar as análises precisaremos converter para um\n",
        "# tipo pandas DataFrame\n",
        "X = pd.DataFrame(X)\n",
        "X.info()"
      ]
    },
    {
      "cell_type": "markdown",
      "id": "a6082271",
      "metadata": {
        "id": "a6082271"
      },
      "source": [
        "## passo 3: análise exploratória do dataset"
      ]
    },
    {
      "cell_type": "code",
      "execution_count": null,
      "id": "45aa8663",
      "metadata": {
        "colab": {
          "base_uri": "https://localhost:8080/",
          "height": 320
        },
        "id": "45aa8663",
        "outputId": "fb304884-a3db-4b02-fb8c-101b4dce86bd"
      },
      "outputs": [
        {
          "output_type": "stream",
          "name": "stdout",
          "text": [
            "dimensões do dataset (exemplos, features):  (100, 2)\n",
            "\n",
            "dispersão dos dados:\n"
          ]
        },
        {
          "output_type": "display_data",
          "data": {
            "image/png": "[encoded data removed]",
            "text/plain": [
              "<Figure size 432x288 with 1 Axes>"
            ]
          },
          "metadata": {
            "needs_background": "light"
          }
        }
      ],
      "source": [
        "print(\"dimensões do dataset (exemplos, features): \", X.shape)\n",
        "\n",
        "print(\"\\ndispersão dos dados:\")\n",
        "\n",
        "plt.scatter(x=X[0], y=X[1], c='red')\n",
        "# [ALTERE AQUI] plote o gráfico de dispersão colocando no eixo X a feature 0 e no eixo Y a feature 1\n",
        "plt.show()"
      ]
    },
    {
      "cell_type": "markdown",
      "id": "eb778ec4",
      "metadata": {
        "id": "eb778ec4"
      },
      "source": [
        "## passo 4: execução do k-means"
      ]
    },
    {
      "cell_type": "code",
      "execution_count": null,
      "id": "e2ba113a",
      "metadata": {
        "colab": {
          "base_uri": "https://localhost:8080/"
        },
        "id": "e2ba113a",
        "outputId": "1eb8df2d-8a4f-409a-b794-c7e8d6525442"
      },
      "outputs": [
        {
          "output_type": "stream",
          "name": "stdout",
          "text": [
            "CPU times: user 288 ms, sys: 0 ns, total: 288 ms\n",
            "Wall time: 295 ms\n"
          ]
        }
      ],
      "source": [
        "%%time\n",
        "# [ALTERE AQUI] Execute o k-means passando o número de clusters igual a 4 e salve na variável model\n",
        "model = KMeans(n_clusters=4, random_state=0).fit(X)\n",
        "\n",
        "y_predict = model.labels_\n"
      ]
    },
    {
      "cell_type": "code",
      "source": [
        "y_predict"
      ],
      "metadata": {
        "colab": {
          "base_uri": "https://localhost:8080/"
        },
        "id": "jWTQIRdb37ZG",
        "outputId": "b9375889-fa8b-40a0-de3b-77bd60b385c2"
      },
      "id": "jWTQIRdb37ZG",
      "execution_count": null,
      "outputs": [
        {
          "output_type": "execute_result",
          "data": {
            "text/plain": [
              "array([3, 1, 3, 3, 3, 3, 0, 1, 3, 1, 1, 1, 1, 1, 1, 2, 2, 0, 0, 2, 3, 1,\n",
              "       0, 2, 3, 0, 0, 3, 2, 2, 2, 1, 2, 2, 0, 3, 1, 2, 1, 0, 3, 0, 1, 0,\n",
              "       0, 1, 2, 0, 3, 3, 3, 2, 0, 0, 0, 1, 1, 2, 2, 1, 1, 2, 2, 3, 2, 1,\n",
              "       0, 0, 2, 3, 1, 2, 3, 1, 3, 3, 0, 0, 2, 2, 2, 1, 0, 3, 2, 0, 2, 2,\n",
              "       3, 3, 3, 0, 3, 0, 0, 1, 1, 0, 1, 3], dtype=int32)"
            ]
          },
          "metadata": {},
          "execution_count": 50
        }
      ]
    },
    {
      "cell_type": "code",
      "source": [
        "kmeans.cluster_centers_"
      ],
      "metadata": {
        "colab": {
          "base_uri": "https://localhost:8080/"
        },
        "id": "sx34YeTI3mxb",
        "outputId": "f08bd627-2c6f-4cac-89f0-81ad547719a5"
      },
      "id": "sx34YeTI3mxb",
      "execution_count": null,
      "outputs": [
        {
          "output_type": "execute_result",
          "data": {
            "text/plain": [
              "array([[-1.48886624,  3.07731162],\n",
              "       [-1.26414502,  7.77811813],\n",
              "       [ 2.00454873,  0.9520213 ],\n",
              "       [ 0.93588159,  4.3205638 ]])"
            ]
          },
          "metadata": {},
          "execution_count": 49
        }
      ]
    },
    {
      "cell_type": "markdown",
      "source": [
        "## passo 5: avaliação do k-means"
      ],
      "metadata": {
        "id": "12XSzcej9Pmv"
      },
      "id": "12XSzcej9Pmv"
    },
    {
      "cell_type": "code",
      "source": [
        "sil = metrics.silhouette_score(X, y_predict, metric='euclidean')\n",
        "nmi = metrics.adjusted_mutual_info_score(y_true, y_predict)\n",
        "\n",
        "print(\"Silhueta: \", sil)\n",
        "print(\"NMI: \", nmi)\n",
        "\n",
        "# check como ficou o balanceamento\n",
        "_ = pd.DataFrame(y_predict).hist()\n",
        "plt.title('balanceamento dos grupos')\n",
        "plt.show()\n",
        "\n",
        "\n",
        "# plot de como ficou a clusterização\n",
        "# [ALTERE AQUI] plote o gráfico de dispersão para o cluster 1 e atribua a cor vermelha\n",
        "x_scatter = X.iloc[y_predict==0, 0]\n",
        "y_scatter = X.iloc[y_predict==0, 1]\n",
        "plt.scatter(x=x_scatter, y=y_scatter, c='red')\n",
        "# [ALTERE AQUI] plote o gráfico de dispersão para o cluster 2 e atribua a cor azul\n",
        "x_scatter = X.iloc[y_predict==1, 0]\n",
        "y_scatter = X.iloc[y_predict==1, 1]\n",
        "plt.scatter(x=x_scatter, y=y_scatter, c='blue')\n",
        "# [ALTERE AQUI] plote o gráfico de dispersão para o cluster 3 e atribua a cor verde\n",
        "x_scatter = X.iloc[y_predict==2, 0]\n",
        "y_scatter = X.iloc[y_predict==2, 1]\n",
        "plt.scatter(x=x_scatter, y=y_scatter, c='green')\n",
        "# [ALTERE AQUI] plote o gráfico de dispersão para o cluster 4 e atribua a cor magenta\n",
        "x_scatter = X.iloc[y_predict==3, 0]\n",
        "y_scatter = X.iloc[y_predict==3, 1]\n",
        "plt.scatter(x=x_scatter, y=y_scatter, c='magenta')\n",
        "\n",
        "# [ALTERE AQUI] plote o gráfico de dispersão para os centróides e atribua a cor amarela\n",
        "plt.scatter(kmeans.cluster_centers_[:, 0], kmeans.cluster_centers_[:, 1], s = 100, c = 'yellow',label = 'Centroids')\n",
        "\n",
        "plt.title('Clustering')\n",
        "plt.xlabel('feature 1')\n",
        "plt.ylabel('feature 2')\n",
        "plt.show()"
      ],
      "metadata": {
        "id": "wpKM4giQ9TQY",
        "colab": {
          "base_uri": "https://localhost:8080/",
          "height": 595
        },
        "outputId": "c50c1a93-ba44-4e78-becd-ec8bf65ef58b"
      },
      "id": "wpKM4giQ9TQY",
      "execution_count": null,
      "outputs": [
        {
          "output_type": "stream",
          "name": "stdout",
          "text": [
            "Silhueta:  0.7697826124517921\n",
            "NMI:  1.0\n"
          ]
        },
        {
          "output_type": "display_data",
          "data": {
            "image/png": "[encoded data removed]",
            "text/plain": [
              "<Figure size 432x288 with 1 Axes>"
            ]
          },
          "metadata": {
            "needs_background": "light"
          }
        },
        {
          "output_type": "display_data",
          "data": {
            "image/png": "[encoded data removed]",
            "text/plain": [
              "<Figure size 432x288 with 1 Axes>"
            ]
          },
          "metadata": {
            "needs_background": "light"
          }
        }
      ]
    }
  ],
  "metadata": {
    "kernelspec": {
      "display_name": "Python 3 (ipykernel)",
      "language": "python",
      "name": "python3"
    },
    "language_info": {
      "codemirror_mode": {
        "name": "ipython",
        "version": 3
      },
      "file_extension": ".py",
      "mimetype": "text/x-python",
      "name": "python",
      "nbconvert_exporter": "python",
      "pygments_lexer": "ipython3",
      "version": "3.9.7"
    },
    "colab": {
      "name": "Bruno Paes - [Aluno] Hands-On 1.ipynb",
      "provenance": [],
      "collapsed_sections": []
    }
  },
  "nbformat": 4,
  "nbformat_minor": 5
}